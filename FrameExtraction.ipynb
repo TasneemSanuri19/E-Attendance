{
  "nbformat": 4,
  "nbformat_minor": 0,
  "metadata": {
    "colab": {
      "provenance": []
    },
    "kernelspec": {
      "name": "python3",
      "display_name": "Python 3"
    },
    "language_info": {
      "name": "python"
    }
  },
  "cells": [
    {
      "cell_type": "markdown",
      "source": [
        "This notebook performs frames extraction on all of the collected recordings"
      ],
      "metadata": {
        "id": "oFopu5U6AgLL"
      }
    },
    {
      "cell_type": "code",
      "source": [
        "from math import floor\n",
        "import cv2"
      ],
      "metadata": {
        "id": "EtMMTjto8CQI"
      },
      "execution_count": null,
      "outputs": []
    },
    {
      "cell_type": "code",
      "source": [
        "%%time\n",
        "for i in range(1,102):\n",
        "  video = cv2.VideoCapture('/content/drive/MyDrive/GP_cctv_recordings/{}.mp4'.format(i))\n",
        "  # count the number of frames \\ fps\n",
        "  frames = video.get(cv2.CAP_PROP_FRAME_COUNT)\n",
        "  fps = video.get(cv2.CAP_PROP_FPS)\n",
        "  \n",
        "  # calculate duration of the video\n",
        "  seconds = floor(frames / fps)\n",
        "  mins = floor(seconds/60)\n",
        "\n",
        "  minutes = 3\n",
        "  seconds = 0\n",
        "  while minutes <= mins:\n",
        "    frame_id = int(fps*(minutes*60 + seconds))\n",
        "    video.set(cv2.CAP_PROP_POS_FRAMES, frame_id)\n",
        "    ret, frame = video.read()\n",
        "    #Store extracted frames in the 'all_frames' directory\n",
        "    cv2.imwrite(r'/content/drive/MyDrive/all_frames/vid{}frame{}.png'.format(i,frame_id), frame)\n",
        "    minutes+=3\n"
      ],
      "metadata": {
        "id": "W3CP23ge6kGX"
      },
      "execution_count": null,
      "outputs": []
    }
  ]
}