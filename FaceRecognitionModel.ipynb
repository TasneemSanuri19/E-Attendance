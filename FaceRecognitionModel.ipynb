{
  "cells": [
    {
      "cell_type": "markdown",
      "metadata": {
        "id": "TsT5VZrK7qQh"
      },
      "source": [
        "The code shown in this notebook is an implementation of training a RESNET18 face recognition model on 43 students"
      ]
    },
    {
      "cell_type": "code",
      "execution_count": null,
      "metadata": {
        "colab": {
          "base_uri": "https://localhost:8080/"
        },
        "id": "5vgFeBQNmQFA",
        "outputId": "5f4edce8-ae43-456a-847a-f1b32a6fa4a1"
      },
      "outputs": [
        {
          "output_type": "stream",
          "name": "stdout",
          "text": [
            "Mounted at /content/drive\n"
          ]
        }
      ],
      "source": [
        "from google.colab import drive\n",
        "drive.mount('/content/drive')"
      ]
    },
    {
      "cell_type": "code",
      "execution_count": null,
      "metadata": {
        "id": "XASiLC5wUUnp"
      },
      "outputs": [],
      "source": [
        "import torch\n",
        "import torch.nn as nn\n",
        "import torch.optim as optim\n",
        "from torchvision import datasets, transforms, models\n",
        "import numpy as np\n",
        "import copy"
      ]
    },
    {
      "cell_type": "code",
      "execution_count": null,
      "metadata": {
        "id": "TjDtWPIllzT4"
      },
      "outputs": [],
      "source": [
        "import random\n",
        "SEED = 1234\n",
        "\n",
        "random.seed(SEED)\n",
        "np.random.seed(SEED)\n",
        "torch.manual_seed(SEED)\n",
        "torch.cuda.manual_seed(SEED)\n",
        "torch.backends.cudnn.deterministic = True"
      ]
    },
    {
      "cell_type": "markdown",
      "metadata": {
        "id": "Eewuisklbnd4"
      },
      "source": [
        "# **ClearML Integration**"
      ]
    },
    {
      "cell_type": "code",
      "execution_count": null,
      "metadata": {
        "colab": {
          "base_uri": "https://localhost:8080/"
        },
        "id": "Tl-Onv9G0klU",
        "outputId": "4eed6c2e-b3c7-4d61-caff-9cfcd853311b"
      },
      "outputs": [
        {
          "output_type": "stream",
          "name": "stdout",
          "text": [
            "Looking in indexes: https://pypi.org/simple, https://us-python.pkg.dev/colab-wheels/public/simple/\n",
            "Collecting clearml\n",
            "  Downloading clearml-1.11.0-py2.py3-none-any.whl (1.1 MB)\n",
            "\u001b[2K     \u001b[90m━━━━━━━━━━━━━━━━━━━━━━━━━━━━━━━━━━━━━━━━\u001b[0m \u001b[32m1.1/1.1 MB\u001b[0m \u001b[31m17.0 MB/s\u001b[0m eta \u001b[36m0:00:00\u001b[0m\n",
            "\u001b[?25hRequirement already satisfied: attrs>=18.0 in /usr/local/lib/python3.10/dist-packages (from clearml) (23.1.0)\n",
            "Collecting furl>=2.0.0 (from clearml)\n",
            "  Downloading furl-2.1.3-py2.py3-none-any.whl (20 kB)\n",
            "Requirement already satisfied: jsonschema>=2.6.0 in /usr/local/lib/python3.10/dist-packages (from clearml) (4.3.3)\n",
            "Requirement already satisfied: numpy>=1.10 in /usr/local/lib/python3.10/dist-packages (from clearml) (1.24.3)\n",
            "Collecting pathlib2>=2.3.0 (from clearml)\n",
            "  Downloading pathlib2-2.3.7.post1-py2.py3-none-any.whl (18 kB)\n",
            "Requirement already satisfied: Pillow>=4.1.1 in /usr/local/lib/python3.10/dist-packages (from clearml) (8.4.0)\n",
            "Requirement already satisfied: psutil>=3.4.2 in /usr/local/lib/python3.10/dist-packages (from clearml) (5.9.5)\n",
            "Requirement already satisfied: pyparsing>=2.0.3 in /usr/local/lib/python3.10/dist-packages (from clearml) (3.0.9)\n",
            "Requirement already satisfied: python-dateutil>=2.6.1 in /usr/local/lib/python3.10/dist-packages (from clearml) (2.8.2)\n",
            "Requirement already satisfied: PyYAML>=3.12 in /usr/local/lib/python3.10/dist-packages (from clearml) (6.0)\n",
            "Requirement already satisfied: requests>=2.20.0 in /usr/local/lib/python3.10/dist-packages (from clearml) (2.27.1)\n",
            "Requirement already satisfied: six>=1.13.0 in /usr/local/lib/python3.10/dist-packages (from clearml) (1.16.0)\n",
            "Requirement already satisfied: urllib3>=1.21.1 in /usr/local/lib/python3.10/dist-packages (from clearml) (1.26.15)\n",
            "Collecting pyjwt<2.5.0,>=2.4.0 (from clearml)\n",
            "  Downloading PyJWT-2.4.0-py3-none-any.whl (18 kB)\n",
            "Collecting orderedmultidict>=1.0.1 (from furl>=2.0.0->clearml)\n",
            "  Downloading orderedmultidict-1.0.1-py2.py3-none-any.whl (11 kB)\n",
            "Requirement already satisfied: pyrsistent!=0.17.0,!=0.17.1,!=0.17.2,>=0.14.0 in /usr/local/lib/python3.10/dist-packages (from jsonschema>=2.6.0->clearml) (0.19.3)\n",
            "Requirement already satisfied: certifi>=2017.4.17 in /usr/local/lib/python3.10/dist-packages (from requests>=2.20.0->clearml) (2022.12.7)\n",
            "Requirement already satisfied: charset-normalizer~=2.0.0 in /usr/local/lib/python3.10/dist-packages (from requests>=2.20.0->clearml) (2.0.12)\n",
            "Requirement already satisfied: idna<4,>=2.5 in /usr/local/lib/python3.10/dist-packages (from requests>=2.20.0->clearml) (3.4)\n",
            "Installing collected packages: pyjwt, pathlib2, orderedmultidict, furl, clearml\n",
            "Successfully installed clearml-1.11.0 furl-2.1.3 orderedmultidict-1.0.1 pathlib2-2.3.7.post1 pyjwt-2.4.0\n",
            "ClearML Task: created new task id=b5cf997148c0482a8019bfa76e3d9dbf\n",
            "2023-06-09 22:38:42,470 - clearml.Task - INFO - Storing jupyter notebook directly as code\n"
          ]
        },
        {
          "output_type": "stream",
          "name": "stderr",
          "text": [
            "WARNING:tensorflow:Please fix your imports. Module tensorflow.python.training.tracking.util has been moved to tensorflow.python.checkpoint.checkpoint. The old module will be deleted in version 2.11.\n"
          ]
        },
        {
          "output_type": "stream",
          "name": "stdout",
          "text": [
            "ClearML results page: https://app.clear.ml/projects/d82d91dc35834bae98a76c2ada692c85/experiments/b5cf997148c0482a8019bfa76e3d9dbf/output/log\n"
          ]
        }
      ],
      "source": [
        "!pip install clearml\n",
        "import clearml\n",
        "from clearml import Task\n",
        "\n",
        "Task.set_credentials(\n",
        "     api_host=\"https://api.clear.ml\",\n",
        "     web_host=\"https://app.clear.ml\",\n",
        "     files_host=\"https://files.clear.ml\",\n",
        "     key='K87AYXOFYVT60A89H32E',\n",
        "     secret='xsvMF2rp6TzjXUWZdr6EXQZne7fUUP0feRRM2IC9j425ayd4WA'\n",
        ")\n",
        "\n",
        "# Initialize ClearML task\n",
        "task = Task.init(project_name='Experiments', task_name='raw_data_2')"
      ]
    },
    {
      "cell_type": "markdown",
      "metadata": {
        "id": "zG0_PdtCbsVp"
      },
      "source": [
        "# **ResNet18 Training**"
      ]
    },
    {
      "cell_type": "code",
      "source": [
        "# Defining the transforms\n",
        "transform = transforms.Compose([\n",
        "    transforms.Resize((224, 224)),\n",
        "    transforms.ToTensor(),\n",
        "    transforms.Normalize(mean=[0.485, 0.456, 0.406], std=[0.229, 0.224, 0.225])\n",
        "])"
      ],
      "metadata": {
        "id": "D030FwoQnG-o"
      },
      "execution_count": null,
      "outputs": []
    },
    {
      "cell_type": "code",
      "execution_count": null,
      "metadata": {
        "id": "fJxf6ml7b6pS"
      },
      "outputs": [],
      "source": [
        "#importing datasets\n",
        "train_dataset = datasets.ImageFolder('/content/drive/MyDrive/RECOGData/train', transform=transform)\n",
        "val_dataset = datasets.ImageFolder('/content/drive/MyDrive/RECOGData/val', transform=transform)\n",
        "test_dataset = datasets.ImageFolder('/content/drive/MyDrive/RECOGData/test', transform=transform)"
      ]
    },
    {
      "cell_type": "code",
      "execution_count": null,
      "metadata": {
        "id": "UA24AqV8a0Eo"
      },
      "outputs": [],
      "source": [
        "# Creating the data loaders\n",
        "batch_size=32\n",
        "train_loader = torch.utils.data.DataLoader(train_dataset, batch_size=batch_size, shuffle=True)\n",
        "val_loader = torch.utils.data.DataLoader(val_dataset, batch_size=batch_size, shuffle=False)\n",
        "test_loader = torch.utils.data.DataLoader(test_dataset, batch_size=batch_size, shuffle=False)"
      ]
    },
    {
      "cell_type": "code",
      "execution_count": null,
      "metadata": {
        "id": "ILyUAs1xbI4r",
        "colab": {
          "base_uri": "https://localhost:8080/"
        },
        "outputId": "7b356425-a02e-457c-b8a3-a4e4ce93c88c"
      },
      "outputs": [
        {
          "output_type": "stream",
          "name": "stderr",
          "text": [
            "/usr/local/lib/python3.10/dist-packages/torchvision/models/_utils.py:208: UserWarning:\n",
            "\n",
            "The parameter 'pretrained' is deprecated since 0.13 and may be removed in the future, please use 'weights' instead.\n",
            "\n",
            "/usr/local/lib/python3.10/dist-packages/torchvision/models/_utils.py:223: UserWarning:\n",
            "\n",
            "Arguments other than a weight enum or `None` for 'weights' are deprecated since 0.13 and may be removed in the future. The current behavior is equivalent to passing `weights=ResNet18_Weights.IMAGENET1K_V1`. You can also use `weights=ResNet18_Weights.DEFAULT` to get the most up-to-date weights.\n",
            "\n",
            "Downloading: \"https://download.pytorch.org/models/resnet18-f37072fd.pth\" to /root/.cache/torch/hub/checkpoints/resnet18-f37072fd.pth\n",
            "100%|██████████| 44.7M/44.7M [00:00<00:00, 189MB/s]\n"
          ]
        },
        {
          "output_type": "stream",
          "name": "stdout",
          "text": [
            "2023-06-09 22:39:52,765 - clearml.model - INFO - Selected model id: 85b1cde9736a4fa98bc157d942969307\n"
          ]
        }
      ],
      "source": [
        "device = torch.device('cuda' if torch.cuda.is_available() else 'cpu')\n",
        "model = models.resnet18(pretrained=True)\n",
        "num_ftrs = model.fc.in_features\n",
        "model.fc = nn.Linear(num_ftrs, 43)\n",
        "model = model.to(device)\n",
        "\n",
        "\n",
        "criterion = nn.CrossEntropyLoss().to(device)\n",
        "optimizer = optim.Adam(model.parameters(), lr=0.001)\n",
        "\n",
        "opt = {\n",
        "    'model_architecture': 'resnet18',\n",
        "    'learning_rate': 0.001,\n",
        "    'batch_size': 32,\n",
        "    'num_epochs': 100,\n",
        "    'optimizer': 'Adam',\n",
        "    'loss_function': 'CrossEntropyLoss',\n",
        "    'train_data_path': '/content/drive/MyDrive/RECOGData/train',\n",
        "    'val_data_path': '/content/drive/MyDrive/RECOGData/val',\n",
        "}\n",
        "\n",
        "#Wrap the model and optimizer with ClearML\n",
        "opt = task.connect_configuration(opt)"
      ]
    },
    {
      "cell_type": "code",
      "execution_count": null,
      "metadata": {
        "colab": {
          "base_uri": "https://localhost:8080/"
        },
        "id": "DCI7Grf-rbcD",
        "outputId": "8ddad776-2bce-42c0-b39a-9fd2bd37c993"
      },
      "outputs": [
        {
          "output_type": "stream",
          "name": "stdout",
          "text": [
            "Epoch [1/100], Training Loss: 1.5699, Training Accuracy: 57.16%, Validation Loss: 36.5053, Validation Accuracy: 59.65%\n",
            "Epoch [2/100], Training Loss: 0.6136, Training Accuracy: 82.60%, Validation Loss: 47.3861, Validation Accuracy: 54.07%\n",
            "Epoch [3/100], Training Loss: 0.3560, Training Accuracy: 90.05%, Validation Loss: 36.2328, Validation Accuracy: 63.60%\n",
            "Epoch [4/100], Training Loss: 0.2318, Training Accuracy: 93.26%, Validation Loss: 29.0376, Validation Accuracy: 70.23%\n",
            "Epoch [5/100], Training Loss: 0.1694, Training Accuracy: 94.93%, Validation Loss: 30.7059, Validation Accuracy: 71.98%\n",
            "Epoch [6/100], Training Loss: 0.0719, Training Accuracy: 98.23%, Validation Loss: 29.2432, Validation Accuracy: 72.91%\n",
            "Epoch [7/100], Training Loss: 0.0493, Training Accuracy: 98.72%, Validation Loss: 26.9968, Validation Accuracy: 75.12%\n",
            "Epoch [8/100], Training Loss: 0.0867, Training Accuracy: 97.56%, Validation Loss: 34.2459, Validation Accuracy: 69.07%\n",
            "Epoch [9/100], Training Loss: 0.0982, Training Accuracy: 97.51%, Validation Loss: 27.9322, Validation Accuracy: 74.77%\n",
            "Epoch [10/100], Training Loss: 0.1289, Training Accuracy: 96.05%, Validation Loss: 33.5549, Validation Accuracy: 71.74%\n",
            "Epoch [11/100], Training Loss: 0.1124, Training Accuracy: 96.35%, Validation Loss: 27.9352, Validation Accuracy: 73.84%\n",
            "Epoch [12/100], Training Loss: 0.0528, Training Accuracy: 98.37%, Validation Loss: 31.2452, Validation Accuracy: 73.72%\n",
            "Epoch [13/100], Training Loss: 0.0575, Training Accuracy: 98.51%, Validation Loss: 24.0714, Validation Accuracy: 77.44%\n",
            "Epoch [14/100], Training Loss: 0.0259, Training Accuracy: 99.44%, Validation Loss: 21.1367, Validation Accuracy: 80.35%\n",
            "Epoch [15/100], Training Loss: 0.0144, Training Accuracy: 99.63%, Validation Loss: 26.0759, Validation Accuracy: 76.74%\n",
            "Epoch [16/100], Training Loss: 0.0250, Training Accuracy: 99.28%, Validation Loss: 25.1882, Validation Accuracy: 76.51%\n",
            "Epoch [17/100], Training Loss: 0.0482, Training Accuracy: 98.77%, Validation Loss: 33.8748, Validation Accuracy: 72.21%\n",
            "Epoch [18/100], Training Loss: 0.0945, Training Accuracy: 96.81%, Validation Loss: 37.2519, Validation Accuracy: 69.53%\n",
            "Epoch [19/100], Training Loss: 0.1162, Training Accuracy: 96.40%, Validation Loss: 38.0458, Validation Accuracy: 70.93%\n",
            "Epoch [20/100], Training Loss: 0.0642, Training Accuracy: 98.12%, Validation Loss: 31.9927, Validation Accuracy: 74.07%\n",
            "Epoch [21/100], Training Loss: 0.0283, Training Accuracy: 99.16%, Validation Loss: 28.0468, Validation Accuracy: 76.28%\n",
            "Epoch [22/100], Training Loss: 0.0361, Training Accuracy: 98.95%, Validation Loss: 29.1443, Validation Accuracy: 76.98%\n",
            "Epoch [23/100], Training Loss: 0.0167, Training Accuracy: 99.60%, Validation Loss: 24.7343, Validation Accuracy: 79.77%\n",
            "Epoch [24/100], Training Loss: 0.0030, Training Accuracy: 99.95%, Validation Loss: 23.8125, Validation Accuracy: 80.58%\n",
            "Epoch [25/100], Training Loss: 0.0010, Training Accuracy: 100.00%, Validation Loss: 22.3142, Validation Accuracy: 81.16%\n",
            "Epoch [26/100], Training Loss: 0.0007, Training Accuracy: 99.98%, Validation Loss: 22.5232, Validation Accuracy: 81.16%\n",
            "Epoch [27/100], Training Loss: 0.0151, Training Accuracy: 99.63%, Validation Loss: 34.4032, Validation Accuracy: 74.30%\n",
            "Epoch [28/100], Training Loss: 0.0751, Training Accuracy: 97.98%, Validation Loss: 42.5605, Validation Accuracy: 71.40%\n",
            "Epoch [29/100], Training Loss: 0.1896, Training Accuracy: 94.21%, Validation Loss: 35.8637, Validation Accuracy: 73.60%\n",
            "Epoch [30/100], Training Loss: 0.0886, Training Accuracy: 97.19%, Validation Loss: 43.2834, Validation Accuracy: 70.12%\n",
            "Epoch [31/100], Training Loss: 0.0232, Training Accuracy: 99.26%, Validation Loss: 23.6837, Validation Accuracy: 79.77%\n",
            "Epoch [32/100], Training Loss: 0.0151, Training Accuracy: 99.60%, Validation Loss: 28.1939, Validation Accuracy: 77.44%\n",
            "Epoch [33/100], Training Loss: 0.0077, Training Accuracy: 99.81%, Validation Loss: 23.8041, Validation Accuracy: 79.19%\n",
            "Epoch [34/100], Training Loss: 0.0045, Training Accuracy: 99.93%, Validation Loss: 23.6976, Validation Accuracy: 79.77%\n",
            "Epoch [35/100], Training Loss: 0.0011, Training Accuracy: 100.00%, Validation Loss: 22.0748, Validation Accuracy: 81.86%\n",
            "Epoch [36/100], Training Loss: 0.0031, Training Accuracy: 99.91%, Validation Loss: 23.6996, Validation Accuracy: 79.19%\n",
            "Epoch [37/100], Training Loss: 0.0020, Training Accuracy: 99.98%, Validation Loss: 23.4326, Validation Accuracy: 80.58%\n",
            "Epoch [38/100], Training Loss: 0.0074, Training Accuracy: 99.79%, Validation Loss: 32.0462, Validation Accuracy: 76.05%\n",
            "Epoch [39/100], Training Loss: 0.0577, Training Accuracy: 98.14%, Validation Loss: 43.1438, Validation Accuracy: 71.51%\n",
            "Epoch [40/100], Training Loss: 0.1580, Training Accuracy: 95.26%, Validation Loss: 43.0620, Validation Accuracy: 71.63%\n",
            "Epoch [41/100], Training Loss: 0.0558, Training Accuracy: 98.47%, Validation Loss: 30.4875, Validation Accuracy: 76.40%\n",
            "Epoch [42/100], Training Loss: 0.0061, Training Accuracy: 99.81%, Validation Loss: 32.4806, Validation Accuracy: 77.91%\n",
            "Epoch [43/100], Training Loss: 0.0218, Training Accuracy: 99.33%, Validation Loss: 34.3166, Validation Accuracy: 74.77%\n",
            "Epoch [44/100], Training Loss: 0.0300, Training Accuracy: 99.16%, Validation Loss: 30.3289, Validation Accuracy: 75.93%\n",
            "Epoch [45/100], Training Loss: 0.0446, Training Accuracy: 98.93%, Validation Loss: 36.0016, Validation Accuracy: 73.60%\n",
            "Epoch [46/100], Training Loss: 0.0234, Training Accuracy: 99.37%, Validation Loss: 32.1004, Validation Accuracy: 74.53%\n",
            "Epoch [47/100], Training Loss: 0.0075, Training Accuracy: 99.79%, Validation Loss: 29.1866, Validation Accuracy: 77.09%\n",
            "Epoch [48/100], Training Loss: 0.0103, Training Accuracy: 99.77%, Validation Loss: 31.0428, Validation Accuracy: 77.44%\n",
            "Epoch [49/100], Training Loss: 0.0525, Training Accuracy: 98.56%, Validation Loss: 53.0180, Validation Accuracy: 70.58%\n",
            "Epoch [50/100], Training Loss: 0.0441, Training Accuracy: 98.72%, Validation Loss: 35.3734, Validation Accuracy: 73.84%\n",
            "Epoch [51/100], Training Loss: 0.0127, Training Accuracy: 99.67%, Validation Loss: 36.9145, Validation Accuracy: 72.91%\n",
            "Epoch [52/100], Training Loss: 0.0185, Training Accuracy: 99.47%, Validation Loss: 41.2876, Validation Accuracy: 72.67%\n",
            "Epoch [53/100], Training Loss: 0.0444, Training Accuracy: 98.65%, Validation Loss: 37.8730, Validation Accuracy: 71.86%\n",
            "Epoch [54/100], Training Loss: 0.0519, Training Accuracy: 98.60%, Validation Loss: 35.0156, Validation Accuracy: 76.05%\n",
            "Epoch [55/100], Training Loss: 0.0245, Training Accuracy: 99.23%, Validation Loss: 42.0275, Validation Accuracy: 72.56%\n",
            "Epoch [56/100], Training Loss: 0.0190, Training Accuracy: 99.53%, Validation Loss: 29.5099, Validation Accuracy: 77.67%\n",
            "Epoch [57/100], Training Loss: 0.0142, Training Accuracy: 99.77%, Validation Loss: 29.2678, Validation Accuracy: 77.67%\n",
            "Epoch [58/100], Training Loss: 0.0062, Training Accuracy: 99.88%, Validation Loss: 30.1873, Validation Accuracy: 78.14%\n",
            "Epoch [59/100], Training Loss: 0.0011, Training Accuracy: 99.98%, Validation Loss: 26.5755, Validation Accuracy: 80.12%\n",
            "Epoch [60/100], Training Loss: 0.0006, Training Accuracy: 100.00%, Validation Loss: 27.0322, Validation Accuracy: 81.16%\n",
            "Epoch [61/100], Training Loss: 0.0006, Training Accuracy: 100.00%, Validation Loss: 26.8178, Validation Accuracy: 80.35%\n",
            "Epoch [62/100], Training Loss: 0.0165, Training Accuracy: 99.49%, Validation Loss: 61.6089, Validation Accuracy: 63.60%\n",
            "Epoch [63/100], Training Loss: 0.0553, Training Accuracy: 98.35%, Validation Loss: 47.2212, Validation Accuracy: 71.05%\n",
            "Epoch [64/100], Training Loss: 0.0683, Training Accuracy: 97.81%, Validation Loss: 51.1995, Validation Accuracy: 67.79%\n",
            "Epoch [65/100], Training Loss: 0.0650, Training Accuracy: 97.91%, Validation Loss: 55.4797, Validation Accuracy: 68.37%\n",
            "Epoch [66/100], Training Loss: 0.0222, Training Accuracy: 99.35%, Validation Loss: 33.0461, Validation Accuracy: 76.63%\n",
            "Epoch [67/100], Training Loss: 0.0237, Training Accuracy: 99.26%, Validation Loss: 32.1989, Validation Accuracy: 77.56%\n",
            "Epoch [68/100], Training Loss: 0.0281, Training Accuracy: 99.33%, Validation Loss: 38.9405, Validation Accuracy: 74.88%\n",
            "Epoch [69/100], Training Loss: 0.0067, Training Accuracy: 99.72%, Validation Loss: 45.1685, Validation Accuracy: 75.12%\n",
            "Epoch [70/100], Training Loss: 0.0033, Training Accuracy: 99.84%, Validation Loss: 31.2623, Validation Accuracy: 77.91%\n",
            "Epoch [71/100], Training Loss: 0.0048, Training Accuracy: 99.81%, Validation Loss: 32.6664, Validation Accuracy: 78.37%\n",
            "Epoch [72/100], Training Loss: 0.0096, Training Accuracy: 99.72%, Validation Loss: 33.1482, Validation Accuracy: 78.26%\n",
            "Epoch [73/100], Training Loss: 0.0037, Training Accuracy: 99.93%, Validation Loss: 32.1129, Validation Accuracy: 79.77%\n",
            "Epoch [74/100], Training Loss: 0.0079, Training Accuracy: 99.79%, Validation Loss: 38.9320, Validation Accuracy: 77.21%\n",
            "Epoch [75/100], Training Loss: 0.0128, Training Accuracy: 99.65%, Validation Loss: 41.1776, Validation Accuracy: 76.28%\n",
            "Epoch [76/100], Training Loss: 0.0790, Training Accuracy: 97.65%, Validation Loss: 59.8132, Validation Accuracy: 67.21%\n",
            "Epoch [77/100], Training Loss: 0.0278, Training Accuracy: 99.05%, Validation Loss: 42.9468, Validation Accuracy: 73.26%\n",
            "Epoch [78/100], Training Loss: 0.0106, Training Accuracy: 99.74%, Validation Loss: 36.4649, Validation Accuracy: 76.40%\n",
            "Epoch [79/100], Training Loss: 0.0134, Training Accuracy: 99.72%, Validation Loss: 35.6591, Validation Accuracy: 75.23%\n",
            "Epoch [80/100], Training Loss: 0.0123, Training Accuracy: 99.63%, Validation Loss: 39.7259, Validation Accuracy: 75.00%\n",
            "Epoch [81/100], Training Loss: 0.0078, Training Accuracy: 99.79%, Validation Loss: 37.9515, Validation Accuracy: 76.16%\n",
            "Epoch [82/100], Training Loss: 0.0076, Training Accuracy: 99.72%, Validation Loss: 42.1242, Validation Accuracy: 74.88%\n",
            "Epoch [83/100], Training Loss: 0.0141, Training Accuracy: 99.51%, Validation Loss: 36.5865, Validation Accuracy: 75.93%\n",
            "Epoch [84/100], Training Loss: 0.0062, Training Accuracy: 99.81%, Validation Loss: 33.0587, Validation Accuracy: 78.02%\n",
            "Epoch [85/100], Training Loss: 0.0099, Training Accuracy: 99.72%, Validation Loss: 35.5291, Validation Accuracy: 75.70%\n",
            "Epoch [86/100], Training Loss: 0.0244, Training Accuracy: 99.35%, Validation Loss: 52.9516, Validation Accuracy: 70.00%\n",
            "Epoch [87/100], Training Loss: 0.0406, Training Accuracy: 98.86%, Validation Loss: 41.5215, Validation Accuracy: 74.19%\n",
            "Epoch [88/100], Training Loss: 0.0188, Training Accuracy: 99.53%, Validation Loss: 38.7625, Validation Accuracy: 74.77%\n",
            "Epoch [89/100], Training Loss: 0.0062, Training Accuracy: 99.77%, Validation Loss: 39.9900, Validation Accuracy: 75.70%\n",
            "Epoch [90/100], Training Loss: 0.0022, Training Accuracy: 99.91%, Validation Loss: 33.8344, Validation Accuracy: 79.19%\n",
            "Epoch [91/100], Training Loss: 0.0036, Training Accuracy: 99.88%, Validation Loss: 38.8791, Validation Accuracy: 77.09%\n",
            "Epoch [92/100], Training Loss: 0.0040, Training Accuracy: 99.81%, Validation Loss: 35.6418, Validation Accuracy: 76.74%\n",
            "Epoch [93/100], Training Loss: 0.0176, Training Accuracy: 99.49%, Validation Loss: 44.9377, Validation Accuracy: 74.30%\n",
            "Epoch [94/100], Training Loss: 0.0163, Training Accuracy: 99.53%, Validation Loss: 47.5519, Validation Accuracy: 73.26%\n",
            "Epoch [95/100], Training Loss: 0.0390, Training Accuracy: 98.63%, Validation Loss: 53.1110, Validation Accuracy: 71.63%\n",
            "Epoch [96/100], Training Loss: 0.0529, Training Accuracy: 98.53%, Validation Loss: 47.6919, Validation Accuracy: 74.07%\n",
            "Epoch [97/100], Training Loss: 0.0155, Training Accuracy: 99.37%, Validation Loss: 40.9093, Validation Accuracy: 76.74%\n",
            "Epoch [98/100], Training Loss: 0.0076, Training Accuracy: 99.72%, Validation Loss: 34.6515, Validation Accuracy: 78.84%\n",
            "Epoch [99/100], Training Loss: 0.0042, Training Accuracy: 99.84%, Validation Loss: 33.5862, Validation Accuracy: 79.88%\n",
            "Epoch [100/100], Training Loss: 0.0012, Training Accuracy: 99.95%, Validation Loss: 31.1325, Validation Accuracy: 80.81%\n"
          ]
        }
      ],
      "source": [
        "# Train the model\n",
        "num_epochs = 100\n",
        "best_loss = float('inf') # Initialize best_loss to infinity\n",
        "best_model_wts = None\n",
        "\n",
        "for epoch in range(num_epochs):\n",
        "    train_correct = 0\n",
        "    train_total = 0\n",
        "    train_loss = 0\n",
        "    model.train()\n",
        "    for images, labels in train_loader:\n",
        "        images = images.to(device)\n",
        "        labels = labels.to(device)\n",
        "        optimizer.zero_grad()\n",
        "        outputs = model(images)\n",
        "        loss = criterion(outputs, labels)\n",
        "        loss.backward()\n",
        "        optimizer.step()\n",
        "        train_loss += loss.item()\n",
        "        _, predicted = torch.max(outputs.data, 1)\n",
        "        train_total += labels.size(0)\n",
        "        train_correct += (predicted == labels).sum().item()\n",
        "    train_accuracy = 100 * train_correct / train_total\n",
        "    train_loss /= len(train_loader)\n",
        "\n",
        "    task.get_logger().report_scalar(title='Train Accuracy', series='accuracy', value=train_accuracy, iteration=epoch)\n",
        "    task.get_logger().report_scalar(title='Train Loss', series='loss', value=train_loss, iteration=epoch)\n",
        "\n",
        "    model.eval()\n",
        "    with torch.no_grad():\n",
        "        val_correct = 0\n",
        "        val_total = 0\n",
        "        val_loss = 0\n",
        "        for images, labels in val_loader:\n",
        "            images = images.to(device)\n",
        "            labels = labels.to(device)\n",
        "            outputs = model(images)\n",
        "            _, predicted = torch.max(outputs.data, 1)\n",
        "            val_total += labels.size(0)\n",
        "            val_correct += (predicted == labels).sum().item()\n",
        "            loss = criterion(outputs, labels)\n",
        "            val_loss += loss.item()\n",
        "        val_accuracy = 100 * val_correct / val_total\n",
        "\n",
        "        task.get_logger().report_scalar(title='Validation Accuracy', series='accuracy', value=val_accuracy, iteration=epoch)\n",
        "        task.get_logger().report_scalar(title='Validation Loss', series='loss', value=val_loss, iteration=epoch)\n",
        "\n",
        "\n",
        "        if val_loss < best_loss:\n",
        "            best_loss = val_loss\n",
        "            best_weights = model.state_dict()\n",
        "            task.upload_artifact(name='model_best', artifact_object='/content/Last_Recognition_Weights_2.pt')\n",
        "            best_model_wts = copy.deepcopy(model.state_dict())\n",
        "            torch.save(best_model_wts, '/content/drive/MyDrive/Last_Recognition_Weights_2.pt')\n",
        "\n",
        "        print('Epoch [{}/{}], Training Loss: {:.4f}, Training Accuracy: {:.2f}%, Validation Loss: {:.4f}, Validation Accuracy: {:.2f}%'\n",
        "              .format(epoch+1, num_epochs, train_loss, train_accuracy, val_loss, val_accuracy))\n"
      ]
    },
    {
      "cell_type": "markdown",
      "metadata": {
        "id": "_aGwy4qe7ZJr"
      },
      "source": [
        "# **Model Testing**"
      ]
    },
    {
      "cell_type": "code",
      "execution_count": null,
      "metadata": {
        "colab": {
          "base_uri": "https://localhost:8080/"
        },
        "id": "a0OO0sUHQC7d",
        "outputId": "0d0d3bf3-4a86-4a1f-8246-904fa879d4ff"
      },
      "outputs": [
        {
          "output_type": "stream",
          "name": "stdout",
          "text": [
            "Testing accuracy: 73.49%\n",
            "[0, 0, 29, 29, 29, 29, 39, 0, 39, 33, 0, 33, 0, 0, 0, 0, 0, 0, 0, 0, 16, 28, 1, 16, 1, 22, 1, 20, 20, 20, 1, 7, 34, 1, 1, 1, 8, 1, 1, 1, 2, 41, 2, 2, 2, 2, 0, 21, 26, 39, 21, 26, 2, 2, 39, 2, 2, 38, 40, 2, 3, 3, 17, 3, 3, 17, 42, 17, 17, 17, 17, 8, 18, 6, 40, 22, 24, 2, 40, 42, 4, 31, 4, 4, 4, 38, 4, 4, 4, 4, 4, 4, 4, 4, 4, 4, 9, 4, 4, 4, 5, 5, 5, 5, 5, 5, 5, 5, 5, 5, 5, 5, 5, 5, 5, 5, 5, 5, 5, 5, 6, 6, 6, 6, 6, 6, 6, 6, 6, 6, 22, 6, 6, 6, 6, 6, 6, 6, 6, 13, 7, 7, 7, 7, 9, 7, 7, 7, 7, 7, 7, 7, 7, 14, 7, 7, 7, 7, 7, 7, 8, 8, 8, 8, 8, 8, 8, 8, 8, 8, 8, 8, 8, 8, 8, 8, 8, 8, 8, 8, 9, 9, 9, 9, 9, 9, 9, 9, 9, 9, 9, 9, 9, 9, 9, 9, 9, 9, 9, 14, 10, 10, 16, 10, 10, 10, 10, 30, 10, 16, 10, 10, 10, 10, 9, 39, 7, 10, 10, 10, 11, 11, 11, 11, 11, 11, 11, 30, 11, 29, 20, 29, 11, 11, 11, 11, 11, 11, 11, 20, 12, 12, 12, 12, 12, 12, 12, 12, 12, 12, 12, 12, 12, 12, 12, 12, 12, 12, 12, 12, 13, 13, 13, 13, 18, 40, 18, 13, 18, 3, 8, 8, 8, 22, 3, 8, 18, 40, 4, 15, 14, 14, 14, 14, 14, 22, 1, 22, 1, 14, 14, 14, 14, 28, 14, 36, 14, 14, 14, 14, 5, 35, 35, 35, 35, 18, 35, 34, 35, 35, 24, 15, 35, 15, 15, 15, 15, 15, 15, 35, 16, 40, 1, 10, 16, 16, 16, 16, 26, 16, 16, 16, 16, 16, 16, 16, 16, 16, 16, 16, 17, 17, 17, 17, 17, 17, 17, 17, 17, 42, 17, 17, 17, 17, 17, 17, 24, 17, 17, 40, 12, 18, 18, 29, 6, 31, 29, 31, 31, 29, 18, 18, 18, 29, 18, 18, 18, 18, 18, 25, 19, 19, 19, 19, 19, 19, 19, 10, 41, 19, 19, 19, 11, 41, 19, 19, 19, 19, 19, 19, 20, 20, 4, 20, 20, 20, 20, 20, 20, 20, 20, 20, 20, 20, 1, 5, 4, 38, 20, 40, 21, 21, 26, 21, 21, 21, 21, 21, 26, 21, 21, 10, 32, 21, 21, 21, 21, 26, 21, 21, 22, 42, 42, 22, 22, 22, 22, 42, 22, 22, 22, 22, 22, 22, 22, 14, 39, 6, 30, 22, 6, 23, 23, 6, 6, 23, 6, 23, 18, 6, 25, 42, 6, 6, 6, 6, 6, 6, 6, 36, 24, 24, 24, 24, 24, 24, 24, 35, 27, 24, 24, 24, 24, 24, 24, 24, 24, 24, 24, 24, 25, 25, 25, 25, 25, 25, 25, 25, 25, 25, 25, 25, 25, 25, 25, 25, 25, 25, 25, 25, 26, 26, 26, 26, 26, 26, 26, 26, 16, 26, 19, 16, 16, 16, 16, 16, 39, 16, 16, 26, 27, 27, 27, 27, 27, 27, 27, 27, 27, 27, 27, 27, 27, 27, 27, 27, 18, 18, 27, 18, 4, 14, 4, 28, 4, 7, 14, 30, 30, 40, 16, 28, 31, 4, 6, 28, 28, 4, 28, 8, 29, 29, 29, 29, 29, 29, 29, 29, 29, 29, 29, 29, 29, 29, 29, 29, 29, 29, 29, 29, 30, 30, 30, 30, 30, 22, 30, 30, 30, 30, 30, 20, 30, 7, 30, 28, 30, 30, 28, 30, 31, 31, 31, 31, 31, 31, 31, 31, 31, 7, 14, 31, 31, 31, 31, 31, 14, 31, 9, 31, 32, 21, 21, 21, 32, 32, 32, 32, 37, 21, 32, 32, 21, 32, 4, 32, 32, 21, 35, 32, 33, 33, 33, 33, 33, 33, 33, 33, 33, 33, 33, 33, 33, 33, 33, 33, 33, 33, 33, 9, 34, 34, 12, 34, 34, 34, 34, 34, 34, 34, 34, 34, 34, 34, 34, 34, 34, 34, 34, 34, 35, 40, 40, 16, 35, 35, 35, 35, 35, 35, 35, 35, 35, 35, 40, 35, 35, 35, 35, 35, 36, 36, 36, 36, 36, 36, 36, 36, 36, 36, 36, 36, 33, 36, 36, 36, 36, 35, 36, 36, 37, 37, 37, 37, 37, 37, 37, 37, 37, 37, 37, 37, 37, 37, 37, 37, 37, 37, 37, 37, 40, 38, 38, 30, 38, 38, 38, 38, 38, 38, 38, 38, 38, 38, 38, 38, 38, 38, 38, 38, 39, 42, 30, 38, 39, 39, 30, 30, 29, 30, 39, 39, 39, 39, 39, 39, 16, 16, 39, 39, 40, 40, 40, 40, 38, 16, 38, 38, 38, 40, 30, 40, 40, 40, 40, 40, 35, 40, 40, 40, 41, 16, 19, 41, 41, 41, 41, 41, 41, 41, 41, 41, 41, 41, 41, 41, 41, 41, 41, 41, 42, 42, 42, 42, 42, 42, 42, 42, 42, 42, 42, 42, 42, 42, 42, 42, 42, 42, 42, 42]\n"
          ]
        }
      ],
      "source": [
        "#testing the model\n",
        "model.eval()\n",
        "with torch.no_grad():\n",
        "    predicted_labels = []\n",
        "    true_labels = [] #\n",
        "    for images, labels in test_loader:\n",
        "        images = images.to(device)\n",
        "        outputs = model(images)\n",
        "        _, predicted = torch.max(outputs.data, 1)\n",
        "        predicted_labels.extend(predicted.tolist())\n",
        "        true_labels.extend(labels.tolist()) #\n",
        "\n",
        "    correct = sum(1 for p, t in zip(predicted_labels, true_labels) if p == t)\n",
        "    total = len(predicted_labels)\n",
        "    accuracy = correct / total * 100\n",
        "\n",
        "# Print the predicted labels\n",
        "#we can print the testing accuracy if we want\n",
        "print(f\"Testing accuracy: {accuracy:.2f}%\")\n",
        "print(predicted_labels)"
      ]
    },
    {
      "cell_type": "markdown",
      "metadata": {
        "id": "lBqG0PkZ7dfS"
      },
      "source": [
        "# **Testing Using Voting System**"
      ]
    },
    {
      "cell_type": "code",
      "execution_count": 12,
      "metadata": {
        "colab": {
          "base_uri": "https://localhost:8080/"
        },
        "id": "tmwsGekOzdZ-",
        "outputId": "876e634a-e47c-465c-eeaf-718a09fdce9b"
      },
      "outputs": [
        {
          "output_type": "stream",
          "name": "stdout",
          "text": [
            "Testing accuracy: 90.70%\n"
          ]
        }
      ],
      "source": [
        "import statistics\n",
        "\n",
        "def replace_with_mode(data):\n",
        "    mode_sequence = []\n",
        "    for i in range(0, len(data), 20):\n",
        "        subset = data[i:i+20]\n",
        "        mode = statistics.mode(subset)\n",
        "        mode_sequence += [mode] * 20\n",
        "\n",
        "    return mode_sequence\n",
        "\n",
        "def calculate_accuracy(array1, array2):\n",
        "    if len(array1) != len(array2):\n",
        "        raise ValueError(\"Arrays must have the same length.\")\n",
        "\n",
        "    total_elements = len(array1)\n",
        "    correct_predictions = sum(a == b for a, b in zip(array1, array2))\n",
        "    accuracy = correct_predictions / total_elements\n",
        "\n",
        "    return accuracy\n",
        "\n",
        "newpred = replace_with_mode(predicted_labels)\n",
        "accuracy = calculate_accuracy(true_labels, newpred)\n",
        "print(f\"Testing accuracy: {accuracy*100:.2f}%\")"
      ]
    }
  ],
  "metadata": {
    "accelerator": "TPU",
    "colab": {
      "machine_shape": "hm",
      "provenance": [],
      "gpuType": "A100"
    },
    "kernelspec": {
      "display_name": "Python 3",
      "name": "python3"
    },
    "language_info": {
      "name": "python"
    }
  },
  "nbformat": 4,
  "nbformat_minor": 0
}